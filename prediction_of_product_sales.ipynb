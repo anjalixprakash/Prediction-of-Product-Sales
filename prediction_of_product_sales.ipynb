{
  "nbformat": 4,
  "nbformat_minor": 0,
  "metadata": {
    "colab": {
      "provenance": [],
      "authorship_tag": "ABX9TyMVFmw16NXoy18NbwGMjpUP",
      "include_colab_link": true
    },
    "kernelspec": {
      "name": "python3",
      "display_name": "Python 3"
    },
    "language_info": {
      "name": "python"
    }
  },
  "cells": [
    {
      "cell_type": "markdown",
      "metadata": {
        "id": "view-in-github",
        "colab_type": "text"
      },
      "source": [
        "<a href=\"https://colab.research.google.com/github/anjalixprakash/Prediction-of-Product-Sales/blob/main/prediction_of_product_sales.ipynb\" target=\"_parent\"><img src=\"https://colab.research.google.com/assets/colab-badge.svg\" alt=\"Open In Colab\"/></a>"
      ]
    },
    {
      "cell_type": "markdown",
      "source": [
        "# Prediction of Product Sales\n",
        "Anjali Prakash\n",
        "\n",
        "## Project Overview\n",
        "\n",
        "\n",
        "## Load and Inspect Data\n",
        "\n"
      ],
      "metadata": {
        "id": "8sn1ucb5KpDM"
      }
    },
    {
      "cell_type": "code",
      "source": [],
      "metadata": {
        "id": "FmtSEfhsK-xK"
      },
      "execution_count": null,
      "outputs": []
    },
    {
      "cell_type": "markdown",
      "source": [
        "## Clean Data"
      ],
      "metadata": {
        "id": "CL4NDnElK_aA"
      }
    },
    {
      "cell_type": "code",
      "source": [],
      "metadata": {
        "id": "6Tzq8N8TLD20"
      },
      "execution_count": null,
      "outputs": []
    },
    {
      "cell_type": "markdown",
      "source": [
        "## Exploratory Data Analysis"
      ],
      "metadata": {
        "id": "dNsnj9uILFEx"
      }
    },
    {
      "cell_type": "code",
      "source": [],
      "metadata": {
        "id": "47RlVEVdLKi6"
      },
      "execution_count": null,
      "outputs": []
    },
    {
      "cell_type": "markdown",
      "source": [
        "## Explanatory Data Analysis"
      ],
      "metadata": {
        "id": "rlSKPEYMLK_2"
      }
    },
    {
      "cell_type": "code",
      "source": [],
      "metadata": {
        "id": "FoqIuRq_LNHN"
      },
      "execution_count": null,
      "outputs": []
    }
  ]
}